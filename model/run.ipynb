{
 "cells": [
  {
   "cell_type": "code",
   "execution_count": 1,
   "metadata": {},
   "outputs": [],
   "source": [
    "import torch\n",
    "import numpy as np\n",
    "import pandas as pd\n",
    "import torch.nn as nn\n",
    "import torch.optim as optim\n",
    "import matplotlib.pyplot as plt\n",
    "import torch.nn.functional as F\n",
    "from torchsummary import summary\n",
    "from torch.optim import lr_scheduler\n",
    "from torch.utils.data import DataLoader\n",
    "from sklearn.model_selection import train_test_split\n",
    "from models import *\n",
    "%matplotlib inline"
   ]
  },
  {
   "cell_type": "code",
   "execution_count": 2,
   "metadata": {},
   "outputs": [],
   "source": [
    "# hyper-parameters\n",
    "# how many samples per batch to load\n",
    "batch_size = 25\n",
    "# percentage of training set to use as validation\n",
    "valid_size = 0.1\n",
    "# number of epochs to train the model\n",
    "n_epochs = 30\n",
    "# track change in validation loss\n",
    "valid_loss_min = np.Inf\n",
    "# specify the image classes\n",
    "classes = ['noise', 'wave']\n",
    "# gpu\n",
    "DEVICE = torch.device('cuda: 3' if torch.cuda.is_available() else 'cpu')"
   ]
  },
  {
   "cell_type": "code",
   "execution_count": 3,
   "metadata": {},
   "outputs": [],
   "source": [
    "# choose the training and test datasets\n",
    "train_set = pd.read_csv(\"./data/mass/exp1/data1.2/train.csv\", dtype=np.float32)\n",
    "\n",
    "# Seperate the features and labels\n",
    "total_train_label = train_set.label.values\n",
    "total_train_data = train_set.loc[:, train_set.columns != 'label'].values\n",
    "total_train_data  = total_train_data.reshape(-1, 1, 4096)\n",
    "\n",
    "# Split into training and test set\n",
    "data_train, data_valid, label_train, label_valid = train_test_split(total_train_data, total_train_label, test_size=0.1, random_state=2)"
   ]
  },
  {
   "cell_type": "code",
   "execution_count": 4,
   "metadata": {},
   "outputs": [],
   "source": [
    "# create feature and targets tensor for train set. As you remember we need variable to accumulate gradients. Therefore first we create tensor, then we will create variable\n",
    "dataTrain = torch.from_numpy(data_train)\n",
    "labelTrain = torch.from_numpy(label_train).type(torch.LongTensor) # data type is long\n",
    "\n",
    "# create feature and targets tensor for valid set.\n",
    "dataValid = torch.from_numpy(data_valid)\n",
    "labelValid = torch.from_numpy(label_valid).type(torch.LongTensor) # data type is long"
   ]
  },
  {
   "cell_type": "code",
   "execution_count": 5,
   "metadata": {},
   "outputs": [],
   "source": [
    "# Pytorch train and valid sets\n",
    "train = torch.utils.data.TensorDataset(dataTrain,labelTrain)\n",
    "valid = torch.utils.data.TensorDataset(dataValid,labelValid)\n",
    "\n",
    "# data loader\n",
    "train_loader = torch.utils.data.DataLoader(train, batch_size = batch_size, shuffle = True)\n",
    "valid_loader = torch.utils.data.DataLoader(valid, batch_size = batch_size, shuffle = True)"
   ]
  },
  {
   "cell_type": "code",
   "execution_count": 6,
   "metadata": {},
   "outputs": [],
   "source": [
    "# instantiate model\n",
    "model =  ConvNet4().to(DEVICE)\n",
    "# specify optimizer\n",
    "optimizer = optim.Adam(model.parameters(), lr=5e-5)\n",
    "#learning rate\n",
    "lr_sched = lr_scheduler.StepLR(optimizer, step_size=20, gamma=0.1)\n",
    "# summary\n",
    "#summary(model, input_size=(1,4096))"
   ]
  },
  {
   "cell_type": "code",
   "execution_count": 7,
   "metadata": {},
   "outputs": [],
   "source": [
    "#curve list\n",
    "train_Loss_list = []\n",
    "valid_Loss_list = []\n",
    "accracy_list = []\n",
    "valid_len = 20"
   ]
  },
  {
   "cell_type": "code",
   "execution_count": 8,
   "metadata": {},
   "outputs": [
    {
     "name": "stdout",
     "output_type": "stream",
     "text": [
      "Validation loss decreased (inf --> 0.687406).  Saving model ...\n",
      "Validation loss decreased (0.687406 --> 0.681616).  Saving model ...\n",
      "Validation loss decreased (0.681616 --> 0.676216).  Saving model ...\n",
      "iteration: 5.0 \tTraining Loss: 0.670587 \tValidation Loss: 0.667222\n",
      "Validation loss decreased (0.676216 --> 0.667222).  Saving model ...\n",
      "Validation loss decreased (0.667222 --> 0.648601).  Saving model ...\n",
      "Validation loss decreased (0.648601 --> 0.642810).  Saving model ...\n",
      "Validation loss decreased (0.642810 --> 0.621476).  Saving model ...\n",
      "Validation loss decreased (0.621476 --> 0.600710).  Saving model ...\n",
      "Validation loss decreased (0.600710 --> 0.559009).  Saving model ...\n",
      "Validation loss decreased (0.559009 --> 0.469705).  Saving model ...\n",
      "Validation loss decreased (0.469705 --> 0.414217).  Saving model ...\n",
      "iteration: 15.0 \tTraining Loss: 0.427971 \tValidation Loss: 0.370859\n",
      "Validation loss decreased (0.414217 --> 0.370859).  Saving model ...\n",
      "Validation loss decreased (0.370859 --> 0.369948).  Saving model ...\n",
      "Validation loss decreased (0.369948 --> 0.327391).  Saving model ...\n",
      "Validation loss decreased (0.327391 --> 0.312415).  Saving model ...\n",
      "Validation loss decreased (0.312415 --> 0.271771).  Saving model ...\n",
      "Validation loss decreased (0.271771 --> 0.265176).  Saving model ...\n",
      "Validation loss decreased (0.265176 --> 0.261692).  Saving model ...\n",
      "Validation loss decreased (0.261692 --> 0.244539).  Saving model ...\n",
      "iteration: 25.0 \tTraining Loss: 0.241963 \tValidation Loss: 0.246531\n",
      "Validation loss decreased (0.244539 --> 0.233539).  Saving model ...\n",
      "Validation loss decreased (0.233539 --> 0.230913).  Saving model ...\n",
      "Validation loss decreased (0.230913 --> 0.227057).  Saving model ...\n",
      "Validation loss decreased (0.227057 --> 0.225386).  Saving model ...\n",
      "Validation loss decreased (0.225386 --> 0.219995).  Saving model ...\n",
      "iteration: 35.0 \tTraining Loss: 0.266930 \tValidation Loss: 0.240498\n",
      "Validation loss decreased (0.219995 --> 0.216780).  Saving model ...\n",
      "Validation loss decreased (0.216780 --> 0.214125).  Saving model ...\n",
      "Validation loss decreased (0.214125 --> 0.212111).  Saving model ...\n",
      "Validation loss decreased (0.212111 --> 0.211900).  Saving model ...\n",
      "iteration: 45.0 \tTraining Loss: 0.179977 \tValidation Loss: 0.259835\n",
      "Validation loss decreased (0.211900 --> 0.204226).  Saving model ...\n",
      "Validation loss decreased (0.204226 --> 0.199974).  Saving model ...\n",
      "iteration: 55.0 \tTraining Loss: 0.147942 \tValidation Loss: 0.205356\n",
      "Validation loss decreased (0.199974 --> 0.195755).  Saving model ...\n",
      "Validation loss decreased (0.195755 --> 0.194970).  Saving model ...\n",
      "Validation loss decreased (0.194970 --> 0.194251).  Saving model ...\n",
      "Validation loss decreased (0.194251 --> 0.194100).  Saving model ...\n",
      "Validation loss decreased (0.194100 --> 0.192323).  Saving model ...\n",
      "iteration: 65.0 \tTraining Loss: 0.170526 \tValidation Loss: 0.192809\n",
      "Validation loss decreased (0.192323 --> 0.188182).  Saving model ...\n",
      "Validation loss decreased (0.188182 --> 0.187559).  Saving model ...\n",
      "Validation loss decreased (0.187559 --> 0.186908).  Saving model ...\n",
      "Validation loss decreased (0.186908 --> 0.185635).  Saving model ...\n",
      "iteration: 75.0 \tTraining Loss: 0.112142 \tValidation Loss: 0.187386\n",
      "Validation loss decreased (0.185635 --> 0.181862).  Saving model ...\n",
      "iteration: 85.0 \tTraining Loss: 0.119231 \tValidation Loss: 0.182259\n",
      "Validation loss decreased (0.181862 --> 0.181267).  Saving model ...\n",
      "Validation loss decreased (0.181267 --> 0.180979).  Saving model ...\n",
      "Validation loss decreased (0.180979 --> 0.180108).  Saving model ...\n",
      "Validation loss decreased (0.180108 --> 0.178496).  Saving model ...\n",
      "iteration: 95.0 \tTraining Loss: 0.149047 \tValidation Loss: 0.179502\n",
      "iteration: 105.0 \tTraining Loss: 0.085169 \tValidation Loss: 0.179523\n",
      "Validation loss decreased (0.178496 --> 0.178160).  Saving model ...\n",
      "iteration: 115.0 \tTraining Loss: 0.084234 \tValidation Loss: 0.195391\n",
      "iteration: 125.0 \tTraining Loss: 0.092414 \tValidation Loss: 0.181713\n",
      "iteration: 135.0 \tTraining Loss: 0.062861 \tValidation Loss: 0.188943\n",
      "iteration: 145.0 \tTraining Loss: 0.055033 \tValidation Loss: 0.187805\n",
      "iteration: 155.0 \tTraining Loss: 0.047300 \tValidation Loss: 0.191877\n",
      "iteration: 165.0 \tTraining Loss: 0.035127 \tValidation Loss: 0.205924\n",
      "iteration: 175.0 \tTraining Loss: 0.045897 \tValidation Loss: 0.199864\n",
      "iteration: 185.0 \tTraining Loss: 0.026902 \tValidation Loss: 0.222597\n",
      "iteration: 195.0 \tTraining Loss: 0.025435 \tValidation Loss: 0.218615\n",
      "iteration: 205.0 \tTraining Loss: 0.018787 \tValidation Loss: 0.221879\n",
      "iteration: 215.0 \tTraining Loss: 0.016591 \tValidation Loss: 0.223594\n",
      "iteration: 225.0 \tTraining Loss: 0.017554 \tValidation Loss: 0.224143\n",
      "iteration: 235.0 \tTraining Loss: 0.013084 \tValidation Loss: 0.225407\n",
      "iteration: 245.0 \tTraining Loss: 0.015281 \tValidation Loss: 0.223412\n",
      "iteration: 255.0 \tTraining Loss: 0.011665 \tValidation Loss: 0.227159\n",
      "iteration: 265.0 \tTraining Loss: 0.010941 \tValidation Loss: 0.227533\n",
      "iteration: 275.0 \tTraining Loss: 0.012160 \tValidation Loss: 0.234278\n",
      "iteration: 285.0 \tTraining Loss: 0.009149 \tValidation Loss: 0.232661\n",
      "iteration: 295.0 \tTraining Loss: 0.013521 \tValidation Loss: 0.231244\n"
     ]
    }
   ],
   "source": [
    "# train\n",
    "for epoch in range(0, n_epochs):\n",
    "\n",
    "    # keep track of training, validation loss and correct\n",
    "    train_loss = 0.0\n",
    "    valid_loss = 0.0\n",
    "    correct = 0.0\n",
    "    # train the model \n",
    "    model.train()\n",
    "    for batch_idx, (data, target) in enumerate(train_loader):\n",
    "        data, target = data.to(DEVICE), target.to(DEVICE).float().reshape(batch_size, 1)\n",
    "        optimizer.zero_grad()\n",
    "        output = model(data)\n",
    "        loss = F.binary_cross_entropy(output, target)\n",
    "        loss.backward()\n",
    "        optimizer.step()\n",
    "        train_loss += loss.item()*data.size(0)\n",
    "        #valid more\n",
    "        if (batch_idx + 1) % valid_len == 0:\n",
    "            class_correct = list(0. for i in range(2))\n",
    "            class_total = list(0. for i in range(2))\n",
    "            # validate the model \n",
    "            model.eval()\n",
    "            for data, target in valid_loader:\n",
    "                data, target = data.to(DEVICE), target.to(DEVICE).float().reshape(batch_size, 1)\n",
    "                output = model(data)\n",
    "                loss = F.binary_cross_entropy(output, target)\n",
    "                valid_loss += loss.item()*data.size(0)\n",
    "                # less the limit 0.5->0.1, higher the recall rate\n",
    "                pred = torch.tensor([[1] if num[0] >= 0.5 else [0] for num in output]).to(DEVICE)  \n",
    "                # compare predictions to true label\n",
    "                correct_tensor = pred.eq(target.data.view_as(pred).long())\n",
    "                correct = np.squeeze(correct_tensor.cpu().numpy())\n",
    "                # calculate test accuracy for each object class\n",
    "                for i in range(batch_size):\n",
    "                    label = target.data[i].int()\n",
    "                    class_correct[label] += correct[i].item()\n",
    "                    class_total[label] += 1\n",
    "\n",
    "            # calculate accuracy\n",
    "            accuracy = 100. * np.sum(class_correct) / np.sum(class_total)\n",
    "            # calculate average losses\n",
    "            train_loss = train_loss / (valid_len * batch_size)\n",
    "            valid_loss = valid_loss / len(valid_loader.dataset)\n",
    "            #curve data\n",
    "            train_Loss_list.append(train_loss)\n",
    "            valid_Loss_list.append(valid_loss)\n",
    "            accracy_list.append(accuracy)\n",
    "            \n",
    "            # print training/validation statistics \n",
    "            if((epoch * 10 + (batch_idx + 1) / valid_len) % 5 == 0):\n",
    "                print('iteration: {} \\tTraining Loss: {:.6f} \\tValidation Loss: {:.6f}'.format(\n",
    "                    epoch * 10 + (batch_idx + 1) / valid_len, train_loss, valid_loss))\n",
    "\n",
    "            # save model if validation loss has decreased\n",
    "            if valid_loss <= valid_loss_min:\n",
    "                print('Validation loss decreased ({:.6f} --> {:.6f}).  Saving model ...'.format(\n",
    "                valid_loss_min,\n",
    "                valid_loss))\n",
    "                torch.save(model.state_dict(), './param/exp1_data1.2_convnet4.pt')\n",
    "                valid_loss_min = valid_loss\n",
    "            train_loss = 0.0\n",
    "            valid_loss = 0.0\n",
    "    # learning rate\n",
    "    lr_sched.step()"
   ]
  },
  {
   "cell_type": "code",
   "execution_count": 9,
   "metadata": {},
   "outputs": [
    {
     "data": {
      "image/png": "[encoded data removed]",
      "text/plain": [
       "<Figure size 432x288 with 1 Axes>"
      ]
     },
     "metadata": {
      "needs_background": "light"
     },
     "output_type": "display_data"
    }
   ],
   "source": [
    "length = len(train_Loss_list)\n",
    "x = range(0, length)\n",
    "plt.plot(x, train_Loss_list, label='train loss')\n",
    "plt.plot(x, valid_Loss_list, label='valid loss')\n",
    "plt.title('Convolutional Neural Network')\n",
    "plt.xlabel('iteration')\n",
    "plt.ylabel('Loss')\n",
    "plt.legend()\n",
    "#plt.savefig(\"cnn_loss.jpg\")\n",
    "plt.show()"
   ]
  },
  {
   "cell_type": "code",
   "execution_count": 10,
   "metadata": {},
   "outputs": [
    {
     "data": {
      "image/png": "[encoded data removed]",
      "text/plain": [
       "<Figure size 432x288 with 1 Axes>"
      ]
     },
     "metadata": {
      "needs_background": "light"
     },
     "output_type": "display_data"
    }
   ],
   "source": [
    "length = len(accracy_list)\n",
    "x = range(0, length)\n",
    "plt.plot(x, accracy_list)\n",
    "plt.title('Convolutional Neural Network')\n",
    "plt.xlabel('iteration')\n",
    "plt.ylabel('accracy')\n",
    "#plt.savefig(\"cnn_loss.jpg\")\n",
    "plt.show()"
   ]
  },
  {
   "cell_type": "code",
   "execution_count": 11,
   "metadata": {},
   "outputs": [],
   "source": [
    "#np.savetxt('./cache/new/data_1.2_convnet1/accracy.txt',accracy_list,fmt=\"%.6f\",delimiter=\"\\n\")\n",
    "#np.savetxt('./cache/new/data_1.2_convnet1/train_Loss_list.txt',train_Loss_list,fmt=\"%.6f\",delimiter=\"\\n\")\n",
    "#np.savetxt('./cache/new/data_1.2_convnet1/valid_Loss_list.txt',valid_Loss_list,fmt=\"%.6f\",delimiter=\"\\n\")"
   ]
  },
  {
   "cell_type": "code",
   "execution_count": 12,
   "metadata": {},
   "outputs": [
    {
     "data": {
      "text/plain": [
       "<All keys matched successfully>"
      ]
     },
     "execution_count": 12,
     "metadata": {},
     "output_type": "execute_result"
    }
   ],
   "source": [
    "model.load_state_dict(torch.load('./param/exp1_data1.2_convnet4.pt'))"
   ]
  },
  {
   "cell_type": "code",
   "execution_count": 13,
   "metadata": {},
   "outputs": [],
   "source": [
    "test_set = pd.read_csv(\"./data/mass/exp1/data1.2/test.csv\", dtype=np.float32)\n",
    "\n",
    "# Seperate the features and labels\n",
    "label_test = test_set.label.values\n",
    "data_test = test_set.loc[:, test_set.columns != 'label'].values\n",
    "data_test  = data_test.reshape(-1, 1, 4096)\n",
    "\n",
    "# create feature and targets tensor for test set.\n",
    "dataTest = torch.from_numpy(data_test)\n",
    "labelTest = torch.from_numpy(label_test).type(torch.LongTensor) # data type is long\n",
    "\n",
    "test = torch.utils.data.TensorDataset(dataTest,labelTest)\n",
    "test_loader = torch.utils.data.DataLoader(test, batch_size = batch_size, shuffle = True)"
   ]
  },
  {
   "cell_type": "code",
   "execution_count": 14,
   "metadata": {},
   "outputs": [
    {
     "name": "stdout",
     "output_type": "stream",
     "text": [
      "Test Loss: 0.180455\n",
      "\n",
      "Test Accuracy of noise: 93% (234/250)\n",
      "Test Accuracy of  wave: 93% (233/250)\n",
      "\n",
      "Test Accuracy (Overall): 93% (467/500)\n"
     ]
    }
   ],
   "source": [
    "# track test loss\n",
    "test_loss = 0.0\n",
    "class_correct = list(0. for i in range(2))\n",
    "class_total = list(0. for i in range(2))\n",
    "\n",
    "model.eval()\n",
    "# iterate over test data\n",
    "for data, target in test_loader:\n",
    "    data, target = data.to(DEVICE), target.to(DEVICE).float().reshape(batch_size, 1)\n",
    "    output = model(data)\n",
    "    loss = F.binary_cross_entropy(output, target)\n",
    "    test_loss += loss.item()*data.size(0)\n",
    "    # less the limit 0.5->0.1, higher the recall rate\n",
    "    pred = torch.tensor([[1] if num[0] >= 0.5 else [0] for num in output]).to(DEVICE)  \n",
    "    # compare predictions to true label\n",
    "    correct_tensor = pred.eq(target.data.view_as(pred).long())\n",
    "    correct = np.squeeze(correct_tensor.cpu().numpy())\n",
    "    # calculate test accuracy for each object class\n",
    "    for i in range(batch_size):\n",
    "        label = target.data[i].int()\n",
    "        class_correct[label] += correct[i].item()\n",
    "        class_total[label] += 1\n",
    "\n",
    "# average test loss\n",
    "test_loss = test_loss/len(test_loader.dataset)\n",
    "print('Test Loss: {:.6f}\\n'.format(test_loss))\n",
    "\n",
    "for i in range(2):\n",
    "    if class_total[i] > 0:\n",
    "        print('Test Accuracy of %5s: %2d%% (%2d/%2d)' % (\n",
    "            classes[i], 100 * class_correct[i] / class_total[i],\n",
    "            np.sum(class_correct[i]), np.sum(class_total[i])))\n",
    "    else:\n",
    "        print('Test Accuracy of %5s: N/A (no training examples)' % (classes[i]))\n",
    "\n",
    "print('\\nTest Accuracy (Overall): %2d%% (%2d/%2d)' % (\n",
    "    100. * np.sum(class_correct) / np.sum(class_total),\n",
    "    np.sum(class_correct), np.sum(class_total)))"
   ]
  },
  {
   "cell_type": "code",
   "execution_count": null,
   "metadata": {},
   "outputs": [],
   "source": []
  },
  {
   "cell_type": "code",
   "execution_count": null,
   "metadata": {},
   "outputs": [],
   "source": []
  },
  {
   "cell_type": "code",
   "execution_count": null,
   "metadata": {},
   "outputs": [],
   "source": []
  }
 ],
 "metadata": {
  "anaconda-cloud": {},
  "kernelspec": {
   "display_name": "pytorch",
   "language": "python",
   "name": "pytorch"
  },
  "language_info": {
   "codemirror_mode": {
    "name": "ipython",
    "version": 3
   },
   "file_extension": ".py",
   "mimetype": "text/x-python",
   "name": "python",
   "nbconvert_exporter": "python",
   "pygments_lexer": "ipython3",
   "version": "3.8.5"
  }
 },
 "nbformat": 4,
 "nbformat_minor": 2
}
