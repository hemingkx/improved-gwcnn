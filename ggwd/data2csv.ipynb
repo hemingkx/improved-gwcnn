{
 "cells": [
  {
   "cell_type": "code",
   "execution_count": 1,
   "metadata": {},
   "outputs": [
    {
     "name": "stderr",
     "output_type": "stream",
     "text": [
      "/home/xhm/anaconda3/envs/gwenv/lib/python2.7/site-packages/h5py/__init__.py:46: RuntimeWarning: numpy.dtype size changed, may indicate binary incompatibility. Expected 88 from C header, got 96 from PyObject\n",
      "  from ._conv import register_converters as _register_converters\n",
      "/home/xhm/anaconda3/envs/gwenv/lib/python2.7/site-packages/h5py/__init__.py:55: RuntimeWarning: numpy.dtype size changed, may indicate binary incompatibility. Expected 88 from C header, got 96 from PyObject\n",
      "  from . import h5a, h5d, h5ds, h5f, h5fd, h5g, h5r, h5s, h5t, h5p, h5z, h5pl\n",
      "/home/xhm/anaconda3/envs/gwenv/lib/python2.7/site-packages/h5py/_hl/group.py:23: RuntimeWarning: numpy.dtype size changed, may indicate binary incompatibility. Expected 88 from C header, got 96 from PyObject\n",
      "  from .. import h5, h5g, h5i, h5o, h5r, h5t, h5l, h5p, h5s, h5d\n"
     ]
    }
   ],
   "source": [
    "import csv\n",
    "import numpy as np\n",
    "import pandas as pd\n",
    "from tqdm import tqdm\n",
    "import utils.samplefiles"
   ]
  },
  {
   "cell_type": "code",
   "execution_count": 2,
   "metadata": {},
   "outputs": [],
   "source": [
    "train_wnum = 2500\n",
    "train_nnum = 2500\n",
    "test_wnum = 250\n",
    "test_nnum = 250"
   ]
  },
  {
   "cell_type": "code",
   "execution_count": 3,
   "metadata": {},
   "outputs": [],
   "source": [
    "data = utils.samplefiles.SampleFile()\n",
    "data.read_hdf('./output/data1.1.hdf')"
   ]
  },
  {
   "cell_type": "code",
   "execution_count": 4,
   "metadata": {},
   "outputs": [],
   "source": [
    "wave, noise = data.as_dataframe(injection_parameters=True, \n",
    "                  static_arguments=False, \n",
    "                  command_line_arguments=False, \n",
    "                  split_injections_noise=True)"
   ]
  },
  {
   "cell_type": "markdown",
   "metadata": {},
   "source": [
    "Turn strain into multi-dimension array"
   ]
  },
  {
   "cell_type": "code",
   "execution_count": 5,
   "metadata": {},
   "outputs": [],
   "source": [
    "h1w = wave['h1_strain'].tolist()\n",
    "h1n = noise['h1_strain'].tolist()\n",
    "wary = np.array(h1w)\n",
    "nary = np.array(h1n)"
   ]
  },
  {
   "cell_type": "markdown",
   "metadata": {},
   "source": [
    "Split train and test set"
   ]
  },
  {
   "cell_type": "code",
   "execution_count": 6,
   "metadata": {},
   "outputs": [],
   "source": [
    "wtrain = wary[:train_wnum,:]\n",
    "ntrain = nary[:train_nnum,:]\n",
    "wtest = wary[train_wnum:,:]\n",
    "ntest = nary[train_nnum:,:]"
   ]
  },
  {
   "cell_type": "markdown",
   "metadata": {},
   "source": [
    "Insert label"
   ]
  },
  {
   "cell_type": "code",
   "execution_count": 7,
   "metadata": {},
   "outputs": [],
   "source": [
    "wtrain = np.insert(wtrain, 0, values=1, axis=1)\n",
    "ntrain = np.insert(ntrain, 0, values=0, axis=1)\n",
    "wtest = np.insert(wtest, 0, values=1, axis=1)\n",
    "ntest = np.insert(ntest, 0, values=0, axis=1)"
   ]
  },
  {
   "cell_type": "markdown",
   "metadata": {},
   "source": [
    "Training set name"
   ]
  },
  {
   "cell_type": "code",
   "execution_count": 8,
   "metadata": {},
   "outputs": [
    {
     "name": "stderr",
     "output_type": "stream",
     "text": [
      "100%|██████████| 4096/4096 [00:00<00:00, 903775.54it/s]\n"
     ]
    }
   ],
   "source": [
    "train_name = []\n",
    "num = 4096\n",
    "train_name.append('label')\n",
    "for i in tqdm(range(0,num)):\n",
    "    train_name.append('point{s1}'.format(s1=i))"
   ]
  },
  {
   "cell_type": "code",
   "execution_count": 9,
   "metadata": {},
   "outputs": [
    {
     "name": "stderr",
     "output_type": "stream",
     "text": [
      "100%|██████████| 2500/2500 [00:08<00:00, 278.64it/s]\n"
     ]
    }
   ],
   "source": [
    "with open(\"/home/xhm/workspace/GW/model/model1/data/new/spin/data4.1/train.csv\",\"w\") as csvfile: \n",
    "    writer = csv.writer(csvfile)\n",
    "    #columns_name\n",
    "    writer.writerow(train_name)\n",
    "    #use writerows to write lines\n",
    "    for i in tqdm(range(0,train_wnum)):\n",
    "        writer.writerow(wtrain[i])\n",
    "        writer.writerow(ntrain[i])"
   ]
  },
  {
   "cell_type": "markdown",
   "metadata": {},
   "source": [
    "testing set name"
   ]
  },
  {
   "cell_type": "code",
   "execution_count": 10,
   "metadata": {},
   "outputs": [
    {
     "name": "stderr",
     "output_type": "stream",
     "text": [
      "100%|██████████| 4096/4096 [00:00<00:00, 472480.66it/s]\n"
     ]
    }
   ],
   "source": [
    "test_name = []\n",
    "num = 4096\n",
    "test_name.append('label')\n",
    "for i in tqdm(range(0,num)):\n",
    "    test_name.append('point{s1}'.format(s1=i))"
   ]
  },
  {
   "cell_type": "code",
   "execution_count": 11,
   "metadata": {},
   "outputs": [
    {
     "name": "stderr",
     "output_type": "stream",
     "text": [
      "100%|██████████| 250/250 [00:00<00:00, 267.84it/s]\n"
     ]
    }
   ],
   "source": [
    "with open(\"/home/xhm/workspace/GW/model/model1/data/new/spin/data4.1/test.csv\",\"w\") as csvfile: \n",
    "    writer = csv.writer(csvfile)\n",
    "    #columns_name\n",
    "    writer.writerow(test_name)\n",
    "    #use writerows to write lines\n",
    "    for i in tqdm(range(0,test_wnum)):\n",
    "        writer.writerow(wtest[i])\n",
    "        writer.writerow(ntest[i])"
   ]
  },
  {
   "cell_type": "code",
   "execution_count": null,
   "metadata": {},
   "outputs": [],
   "source": []
  }
 ],
 "metadata": {
  "kernelspec": {
   "display_name": "gwenv",
   "language": "python",
   "name": "gwenv"
  },
  "language_info": {
   "codemirror_mode": {
    "name": "ipython",
    "version": 2
   },
   "file_extension": ".py",
   "mimetype": "text/x-python",
   "name": "python",
   "nbconvert_exporter": "python",
   "pygments_lexer": "ipython2",
   "version": "2.7.18"
  }
 },
 "nbformat": 4,
 "nbformat_minor": 2
}
