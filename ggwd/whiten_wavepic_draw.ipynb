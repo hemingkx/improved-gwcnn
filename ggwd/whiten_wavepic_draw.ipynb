{
 "cells": [
  {
   "cell_type": "code",
   "execution_count": 1,
   "metadata": {},
   "outputs": [],
   "source": [
    "import sys\n",
    "import time\n",
    "import numpy as np\n",
    "import pandas as pd\n",
    "import utils.samplefiles\n",
    "\n",
    "import matplotlib\n",
    "import matplotlib.pyplot as plt"
   ]
  },
  {
   "cell_type": "code",
   "execution_count": 2,
   "metadata": {},
   "outputs": [],
   "source": [
    "# Start the stopwatch\n",
    "script_start_time = time.time()"
   ]
  },
  {
   "cell_type": "code",
   "execution_count": 3,
   "metadata": {},
   "outputs": [],
   "source": [
    "hdf_file_path = './output/example.hdf'\n",
    "plot_path = './img/example.jpg'\n",
    "# which sample is used to shown\n",
    "sample_id = 0"
   ]
  },
  {
   "cell_type": "code",
   "execution_count": 4,
   "metadata": {},
   "outputs": [],
   "source": [
    "data = utils.samplefiles.SampleFile()\n",
    "data.read_hdf(hdf_file_path)"
   ]
  },
  {
   "cell_type": "code",
   "execution_count": 5,
   "metadata": {},
   "outputs": [],
   "source": [
    "# when split_injections_noise is set to be True, GWs contain signals and pure waves are splited\n",
    "df, noise = data.as_dataframe(injection_parameters=True, \n",
    "                  static_arguments=True, \n",
    "                  command_line_arguments=False, \n",
    "                  split_injections_noise=True)"
   ]
  },
  {
   "cell_type": "code",
   "execution_count": 6,
   "metadata": {},
   "outputs": [
    {
     "name": "stdout",
     "output_type": "stream",
     "text": [
      "Index(['approximant', 'bandpass_lower', 'bandpass_upper', 'coa_phase', 'dec',\n",
      "       'delta_f', 'delta_t', 'distance', 'domain', 'event_time', 'f_lower',\n",
      "       'fd_length', 'h1_output_signal', 'h1_signal', 'h1_snr', 'h1_strain',\n",
      "       'inclination', 'injection_snr', 'l1_output_signal', 'l1_signal',\n",
      "       'l1_snr', 'l1_strain', 'mass1', 'mass2', 'noise_interval_width',\n",
      "       'original_sampling_rate', 'polarization', 'ra', 'sample_length',\n",
      "       'scale_factor', 'seconds_after_event', 'seconds_before_event', 'spin1z',\n",
      "       'spin2z', 'target_sampling_rate', 'td_length', 'tukey_alpha',\n",
      "       'waveform_length', 'whitening_max_filter_duration',\n",
      "       'whitening_segment_duration'],\n",
      "      dtype='object')\n"
     ]
    }
   ],
   "source": [
    "print(df.columns)"
   ]
  },
  {
   "cell_type": "code",
   "execution_count": 7,
   "metadata": {},
   "outputs": [
    {
     "name": "stdout",
     "output_type": "stream",
     "text": [
      "8.0\n"
     ]
    }
   ],
   "source": [
    "print(df.injection_snr[sample_id])"
   ]
  },
  {
   "cell_type": "code",
   "execution_count": 8,
   "metadata": {},
   "outputs": [
    {
     "name": "stdout",
     "output_type": "stream",
     "text": [
      "30.0\n",
      "45.0\n",
      "-0.998\n",
      "-0.998\n",
      "0.021130220905045696\n"
     ]
    }
   ],
   "source": [
    "print(df.mass1[sample_id])\n",
    "print(df.mass2[sample_id])\n",
    "print(df.spin1z[sample_id])\n",
    "print(df.spin2z[sample_id])\n",
    "print(df.scale_factor[sample_id])"
   ]
  },
  {
   "cell_type": "code",
   "execution_count": 9,
   "metadata": {},
   "outputs": [
    {
     "name": "stdout",
     "output_type": "stream",
     "text": [
      "0.0\n",
      "0.0\n",
      "0.0\n",
      "0.0\n",
      "0.0\n"
     ]
    }
   ],
   "source": [
    "print(df.coa_phase[sample_id])\n",
    "print(df.inclination[sample_id])\n",
    "print(df.ra[sample_id])\n",
    "print(df.dec[sample_id])\n",
    "print(df.polarization[sample_id])"
   ]
  },
  {
   "cell_type": "code",
   "execution_count": 10,
   "metadata": {},
   "outputs": [],
   "source": [
    "sample = df.loc[sample_id]"
   ]
  },
  {
   "cell_type": "code",
   "execution_count": 11,
   "metadata": {},
   "outputs": [
    {
     "name": "stdout",
     "output_type": "stream",
     "text": [
      "1.5\n",
      "2048.0\n",
      "2.0\n"
     ]
    }
   ],
   "source": [
    "# Read out and construct some necessary values for plotting\n",
    "seconds_before_event = float(sample['seconds_before_event'])\n",
    "seconds_after_event = float(sample['seconds_after_event'])\n",
    "target_sampling_rate = float(sample['target_sampling_rate'])\n",
    "sample_length = float(sample['sample_length'])\n",
    "print(seconds_before_event)\n",
    "print(target_sampling_rate)\n",
    "print(sample_length)"
   ]
  },
  {
   "cell_type": "code",
   "execution_count": 12,
   "metadata": {},
   "outputs": [],
   "source": [
    "# Create a grid on which the sample can be plotted so that the\n",
    "# event_time is at position 0\n",
    "grid = np.linspace(0 - seconds_before_event, 0 + seconds_after_event, int(target_sampling_rate * sample_length))\n",
    "\n",
    "# for time from -0.15s to 0.05s\n",
    "#grid = np.linspace(0 - seconds_before_event, 0 + seconds_after_event, int(target_sampling_rate * sample_length)+1)"
   ]
  },
  {
   "cell_type": "code",
   "execution_count": 13,
   "metadata": {},
   "outputs": [],
   "source": [
    "det_name = 'H1'\n",
    "det_string = 'h1_strain'"
   ]
  },
  {
   "cell_type": "code",
   "execution_count": 14,
   "metadata": {},
   "outputs": [
    {
     "name": "stdout",
     "output_type": "stream",
     "text": [
      "140.15265\n"
     ]
    }
   ],
   "source": [
    "maximum = np.max(sample[det_string])\n",
    "print(maximum)"
   ]
  },
  {
   "cell_type": "code",
   "execution_count": 15,
   "metadata": {},
   "outputs": [
    {
     "name": "stdout",
     "output_type": "stream",
     "text": [
      "6.508376293417906e-21\n"
     ]
    }
   ],
   "source": [
    "maximum = max(np.max(sample['h1_signal']), np.max(sample['l1_signal']))\n",
    "print(maximum)"
   ]
  },
  {
   "cell_type": "code",
   "execution_count": 16,
   "metadata": {},
   "outputs": [
    {
     "name": "stdout",
     "output_type": "stream",
     "text": [
      "35.53367122429326\n"
     ]
    }
   ],
   "source": [
    "maximum = max(np.max(sample['h1_output_signal']), np.max(sample['l1_output_signal']))\n",
    "print(maximum)"
   ]
  },
  {
   "cell_type": "code",
   "execution_count": 17,
   "metadata": {},
   "outputs": [
    {
     "data": {
      "image/png": "[encoded data removed]",
      "text/plain": [
       "<Figure size 648x432 with 1 Axes>"
      ]
     },
     "metadata": {
      "needs_background": "light"
     },
     "output_type": "display_data"
    }
   ],
   "source": [
    "plt.plot(grid, sample[det_string], color='C0',label = 'strain')\n",
    "plt.plot(grid, sample['h1_output_signal'], color='C1',label = 'signal')\n",
    "#plt.xlim(-1.5, 0.5)\n",
    "#plt.ylim(-150, 150)\n",
    "plt.xticks(fontsize=14)\n",
    "plt.yticks(fontsize=14)\n",
    "plt.ylabel('Whitened Strain and Signal ({})'\n",
    "                        .format(det_name), fontsize=15)\n",
    "plt.xlabel('Time (s)', fontsize=15)\n",
    "plt.legend(fontsize=15)\n",
    "\n",
    "# Adjust the size and spacing of the subplots\n",
    "plt.gcf().set_size_inches(9, 6, forward=True)\n",
    "plt.tight_layout(rect=[0, 0, 1, 0.9])\n",
    "plt.subplots_adjust(wspace=0, hspace=0)\n",
    "\n",
    "# plt.show()\n",
    "plt.savefig(plot_path)"
   ]
  },
  {
   "cell_type": "code",
   "execution_count": null,
   "metadata": {},
   "outputs": [],
   "source": []
  }
 ],
 "metadata": {
  "kernelspec": {
   "display_name": "heatmap",
   "language": "python",
   "name": "heatmap"
  },
  "language_info": {
   "codemirror_mode": {
    "name": "ipython",
    "version": 3
   },
   "file_extension": ".py",
   "mimetype": "text/x-python",
   "name": "python",
   "nbconvert_exporter": "python",
   "pygments_lexer": "ipython3",
   "version": "3.7.9"
  }
 },
 "nbformat": 4,
 "nbformat_minor": 2
}
